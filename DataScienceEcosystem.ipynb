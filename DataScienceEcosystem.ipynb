{
 "cells": [
  {
   "cell_type": "markdown",
   "id": "f6ab8033-a5b0-429f-8047-f3de3d644b48",
   "metadata": {
    "tags": []
   },
   "source": [
    "# Data Science Tools and Ecosystem"
   ]
  },
  {
   "cell_type": "code",
   "execution_count": 6,
   "id": "c8e2dce7-e4da-40dd-9f5e-45946ff0f574",
   "metadata": {
    "tags": []
   },
   "outputs": [
    {
     "data": {
      "text/plain": [
       "'In this notebook, Data Science Tools and Ecosystem are summarized.'"
      ]
     },
     "execution_count": 6,
     "metadata": {},
     "output_type": "execute_result"
    }
   ],
   "source": [
    "\"In this notebook, Data Science Tools and Ecosystem are summarized.\""
   ]
  },
  {
   "cell_type": "code",
   "execution_count": 7,
   "id": "b88df2dc-7ae3-4716-98e6-dcf43d7fdae1",
   "metadata": {
    "tags": []
   },
   "outputs": [
    {
     "data": {
      "text/plain": [
       "'Some of the popular languages that Data Scientists use are:'"
      ]
     },
     "execution_count": 7,
     "metadata": {},
     "output_type": "execute_result"
    }
   ],
   "source": [
    "\"Some of the popular languages that Data Scientists use are:\""
   ]
  },
  {
   "cell_type": "markdown",
   "id": "3ad10cc7-c347-4af9-9ea8-dda370151d46",
   "metadata": {
    "tags": []
   },
   "source": [
    "- English\n",
    "- Chinese\n",
    "- Malay"
   ]
  },
  {
   "cell_type": "markdown",
   "id": "97ea8433-65dc-4ecc-9740-98906f564b44",
   "metadata": {
    "tags": []
   },
   "source": [
    "\"Some of the commonly used libraries used by Data Scientists include:\"\n",
    "\n",
    "- Numpy\n",
    "- Pandas\n",
    "- Scipy"
   ]
  },
  {
   "cell_type": "markdown",
   "id": "fa85d2fd-65ec-489c-a7af-7918eb0b7e60",
   "metadata": {},
   "source": [
    "# Exercise 6 - Create a markdown cell with a table of Data Science tools\n",
    "\n",
    "| Data Science Tools |\n",
    "|- |\n",
    "| Numpy |\n",
    "| Pandas |\n",
    "| SciPy |"
   ]
  },
  {
   "cell_type": "markdown",
   "id": "6844fbbb-ce77-48f3-8b45-70170d48af49",
   "metadata": {
    "tags": []
   },
   "source": [
    "# Exercise 7 - Create a markdown cell introducing arithmetic expression examples\n",
    "\n",
    "### Below are a few examples of evaluating arithmetic expressions in Python\n",
    "\n",
    "Example: 2+2"
   ]
  },
  {
   "cell_type": "markdown",
   "id": "f8be1550-6f4a-4ae3-be89-6491ab06503a",
   "metadata": {
    "tags": []
   },
   "source": [
    "# Exercise 8 - Create a code cell to multiply and add numbers\n",
    "\n",
    "### Below are a few examples of evaluating arithmetic expressions in Python"
   ]
  },
  {
   "cell_type": "code",
   "execution_count": 14,
   "id": "6ff7d39e-73be-488d-ae33-21c92afd45a4",
   "metadata": {
    "tags": []
   },
   "outputs": [
    {
     "data": {
      "text/plain": [
       "17"
      ]
     },
     "execution_count": 14,
     "metadata": {},
     "output_type": "execute_result"
    }
   ],
   "source": [
    "\"This a simple arithmetic expression to mutiply then add integers\"\n",
    "\n",
    "(3*4)+5"
   ]
  },
  {
   "cell_type": "markdown",
   "id": "c48235da-5a00-4429-9c45-a49cf051d09a",
   "metadata": {
    "tags": []
   },
   "source": [
    "# Exercise 9 - Create a code cell to convert minutes to hours\n",
    "\n",
    "## This will convert 200 minutes to hours by diving by 60"
   ]
  },
  {
   "cell_type": "code",
   "execution_count": 16,
   "id": "15b189d9-a974-4a08-a639-bd0077f46ade",
   "metadata": {
    "tags": []
   },
   "outputs": [
    {
     "data": {
      "text/plain": [
       "3.3333333333333335"
      ]
     },
     "execution_count": 16,
     "metadata": {},
     "output_type": "execute_result"
    }
   ],
   "source": [
    "200/60"
   ]
  },
  {
   "cell_type": "markdown",
   "id": "2f45b3f4-684a-45b6-bb8c-294867e4f858",
   "metadata": {},
   "source": [
    "# Exercise 10 - Insert a markdown cell to list Objectives\n",
    "\n",
    "## In this notebook, Data Science Tools and Ecosystem are summarized.\n",
    "\n",
    "**Objectives:**\n",
    "\n",
    "- Learning how to use Jupyter Notebook\n",
    "- How to use R studio\n",
    "- How to use github"
   ]
  },
  {
   "cell_type": "markdown",
   "id": "f62c903c-02ec-4bf7-9359-ab759c8e3d88",
   "metadata": {
    "tags": []
   },
   "source": [
    "# Exercise 11 - Create a markdown cell to indicate the Author's name\n",
    "\n",
    "## Author\n",
    "Mack"
   ]
  },
  {
   "cell_type": "code",
   "execution_count": null,
   "id": "0ba627d7-6a05-47fa-a61d-479adf1408d8",
   "metadata": {},
   "outputs": [],
   "source": []
  }
 ],
 "metadata": {
  "kernelspec": {
   "display_name": "Python",
   "language": "python",
   "name": "conda-env-python-py"
  },
  "language_info": {
   "codemirror_mode": {
    "name": "ipython",
    "version": 3
   },
   "file_extension": ".py",
   "mimetype": "text/x-python",
   "name": "python",
   "nbconvert_exporter": "python",
   "pygments_lexer": "ipython3",
   "version": "3.7.12"
  }
 },
 "nbformat": 4,
 "nbformat_minor": 5
}
